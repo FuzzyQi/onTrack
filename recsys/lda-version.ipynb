{
 "cells": [
  {
   "cell_type": "markdown",
   "metadata": {},
   "source": [
    "# Type-A: TF-IDF & LDA \n",
    "With this version, we are going to perform TF-IDF then LDA.  \n",
    "We can then find similar documents from the corpus.  "
   ]
  },
  {
   "cell_type": "markdown",
   "metadata": {},
   "source": [
    "## Libraries"
   ]
  },
  {
   "cell_type": "code",
   "execution_count": 340,
   "metadata": {},
   "outputs": [],
   "source": [
    "# Imports \n",
    "import json \n",
    "import csv\n",
    "import  itertools\n",
    "from gensim import corpora, models, similarities\n",
    "from gensim.utils import simple_preprocess\n",
    "from gensim.parsing.preprocessing import remove_stopwords, STOPWORDS\n",
    "from smart_open import open\n",
    "from bs4 import BeautifulSoup\n",
    "from gensim.models import TfidfModel"
   ]
  },
  {
   "cell_type": "markdown",
   "metadata": {},
   "source": [
    "## Pre processing"
   ]
  },
  {
   "cell_type": "code",
   "execution_count": 2,
   "metadata": {},
   "outputs": [],
   "source": [
    "import pandas as pd"
   ]
  },
  {
   "cell_type": "code",
   "execution_count": 10,
   "metadata": {},
   "outputs": [],
   "source": [
    "df = pd.read_json('./data/how-good-is-your-medium-article/train.json', lines=True)"
   ]
  },
  {
   "cell_type": "code",
   "execution_count": 11,
   "metadata": {},
   "outputs": [
    {
     "name": "stdout",
     "output_type": "stream",
     "text": [
      "<class 'pandas.core.frame.DataFrame'>\n",
      "RangeIndex: 62313 entries, 0 to 62312\n",
      "Data columns (total 13 columns):\n",
      " #   Column      Non-Null Count  Dtype  \n",
      "---  ------      --------------  -----  \n",
      " 0   _id         62313 non-null  object \n",
      " 1   _timestamp  62313 non-null  float64\n",
      " 2   _spider     62313 non-null  object \n",
      " 3   url         62313 non-null  object \n",
      " 4   domain      62313 non-null  object \n",
      " 5   published   62313 non-null  object \n",
      " 6   title       62313 non-null  object \n",
      " 7   content     62313 non-null  object \n",
      " 8   author      62313 non-null  object \n",
      " 9   image_url   57226 non-null  object \n",
      " 10  tags        62313 non-null  object \n",
      " 11  link_tags   62313 non-null  object \n",
      " 12  meta_tags   62313 non-null  object \n",
      "dtypes: float64(1), object(12)\n",
      "memory usage: 6.2+ MB\n"
     ]
    }
   ],
   "source": [
    "df.info()"
   ]
  },
  {
   "cell_type": "code",
   "execution_count": 40,
   "metadata": {},
   "outputs": [],
   "source": [
    "columns2keep = ['url', 'title', 'author', 'image_url']"
   ]
  },
  {
   "cell_type": "code",
   "execution_count": 13,
   "metadata": {},
   "outputs": [
    {
     "data": {
      "text/html": [
       "<div>\n",
       "<style scoped>\n",
       "    .dataframe tbody tr th:only-of-type {\n",
       "        vertical-align: middle;\n",
       "    }\n",
       "\n",
       "    .dataframe tbody tr th {\n",
       "        vertical-align: top;\n",
       "    }\n",
       "\n",
       "    .dataframe thead th {\n",
       "        text-align: right;\n",
       "    }\n",
       "</style>\n",
       "<table border=\"1\" class=\"dataframe\">\n",
       "  <thead>\n",
       "    <tr style=\"text-align: right;\">\n",
       "      <th></th>\n",
       "      <th>url</th>\n",
       "      <th>title</th>\n",
       "      <th>content</th>\n",
       "      <th>author</th>\n",
       "      <th>image_url</th>\n",
       "    </tr>\n",
       "  </thead>\n",
       "  <tbody>\n",
       "    <tr>\n",
       "      <th>0</th>\n",
       "      <td>https://medium.com/policy/medium-terms-of-serv...</td>\n",
       "      <td>Medium Terms of Service – Medium Policy – Medium</td>\n",
       "      <td>&lt;div&gt;&lt;header class=\"container u-maxWidth740\"&gt;&lt;...</td>\n",
       "      <td>{'name': None, 'url': 'https://medium.com/@Med...</td>\n",
       "      <td>None</td>\n",
       "    </tr>\n",
       "    <tr>\n",
       "      <th>1</th>\n",
       "      <td>https://medium.com/policy/amendment-to-medium-...</td>\n",
       "      <td>Amendment to Medium Terms of Service Applicabl...</td>\n",
       "      <td>&lt;div&gt;&lt;header class=\"container u-maxWidth740\"&gt;&lt;...</td>\n",
       "      <td>{'name': None, 'url': 'https://medium.com/@Med...</td>\n",
       "      <td>None</td>\n",
       "    </tr>\n",
       "    <tr>\n",
       "      <th>2</th>\n",
       "      <td>https://medium.com/@aelcenganda/%E9%96%A9%E6%9...</td>\n",
       "      <td>走入山與海之間：閩東大刀會和兩岸走私 – Yun-Chen Chien（簡韻真） – Medium</td>\n",
       "      <td>&lt;div&gt;&lt;header class=\"container u-maxWidth740\"&gt;&lt;...</td>\n",
       "      <td>{'name': None, 'url': 'https://medium.com/@ael...</td>\n",
       "      <td>https://cdn-images-1.medium.com/max/1200/1*k9f...</td>\n",
       "    </tr>\n",
       "    <tr>\n",
       "      <th>3</th>\n",
       "      <td>https://medium.com/what-comes-to-mind/how-fast...</td>\n",
       "      <td>How fast can a camera get? – What comes to min...</td>\n",
       "      <td>&lt;div&gt;&lt;header class=\"container u-maxWidth740\"&gt;&lt;...</td>\n",
       "      <td>{'name': None, 'url': 'https://medium.com/@vai...</td>\n",
       "      <td>https://cdn-images-1.medium.com/max/1200/1*6UZ...</td>\n",
       "    </tr>\n",
       "    <tr>\n",
       "      <th>4</th>\n",
       "      <td>https://medium.com/what-comes-to-mind/a-game-f...</td>\n",
       "      <td>A game for the lonely fox – What comes to mind...</td>\n",
       "      <td>&lt;div&gt;&lt;header class=\"container u-maxWidth740\"&gt;&lt;...</td>\n",
       "      <td>{'name': None, 'url': 'https://medium.com/@vai...</td>\n",
       "      <td>https://cdn-images-1.medium.com/max/1200/1*liU...</td>\n",
       "    </tr>\n",
       "  </tbody>\n",
       "</table>\n",
       "</div>"
      ],
      "text/plain": [
       "                                                 url  \\\n",
       "0  https://medium.com/policy/medium-terms-of-serv...   \n",
       "1  https://medium.com/policy/amendment-to-medium-...   \n",
       "2  https://medium.com/@aelcenganda/%E9%96%A9%E6%9...   \n",
       "3  https://medium.com/what-comes-to-mind/how-fast...   \n",
       "4  https://medium.com/what-comes-to-mind/a-game-f...   \n",
       "\n",
       "                                               title  \\\n",
       "0   Medium Terms of Service – Medium Policy – Medium   \n",
       "1  Amendment to Medium Terms of Service Applicabl...   \n",
       "2  走入山與海之間：閩東大刀會和兩岸走私 – Yun-Chen Chien（簡韻真） – Medium   \n",
       "3  How fast can a camera get? – What comes to min...   \n",
       "4  A game for the lonely fox – What comes to mind...   \n",
       "\n",
       "                                             content  \\\n",
       "0  <div><header class=\"container u-maxWidth740\"><...   \n",
       "1  <div><header class=\"container u-maxWidth740\"><...   \n",
       "2  <div><header class=\"container u-maxWidth740\"><...   \n",
       "3  <div><header class=\"container u-maxWidth740\"><...   \n",
       "4  <div><header class=\"container u-maxWidth740\"><...   \n",
       "\n",
       "                                              author  \\\n",
       "0  {'name': None, 'url': 'https://medium.com/@Med...   \n",
       "1  {'name': None, 'url': 'https://medium.com/@Med...   \n",
       "2  {'name': None, 'url': 'https://medium.com/@ael...   \n",
       "3  {'name': None, 'url': 'https://medium.com/@vai...   \n",
       "4  {'name': None, 'url': 'https://medium.com/@vai...   \n",
       "\n",
       "                                           image_url  \n",
       "0                                               None  \n",
       "1                                               None  \n",
       "2  https://cdn-images-1.medium.com/max/1200/1*k9f...  \n",
       "3  https://cdn-images-1.medium.com/max/1200/1*6UZ...  \n",
       "4  https://cdn-images-1.medium.com/max/1200/1*liU...  "
      ]
     },
     "execution_count": 13,
     "metadata": {},
     "output_type": "execute_result"
    }
   ],
   "source": [
    "df[columns2keep].head()"
   ]
  },
  {
   "cell_type": "code",
   "execution_count": 14,
   "metadata": {
    "collapsed": true,
    "jupyter": {
     "outputs_hidden": true
    }
   },
   "outputs": [
    {
     "data": {
      "text/plain": [
       "'<div><header class=\"container u-maxWidth740\"><div class=\"uiScale uiScale-ui--regular uiScale-caption--regular postMetaHeader u-paddingBottom10 row\"><div class=\"col u-size12of12 js-postMetaLockup\"><div class=\"uiScale uiScale-ui--regular uiScale-caption--regular postMetaLockup postMetaLockup--authorWithBio u-flexCenter js-postMetaLockup\"><div class=\"u-flex0\"><a class=\"link u-baseColor--link avatar\" href=\"https://medium.com/@Medium?source=post_header_lockup\" data-action=\"show-user-card\" data-action-source=\"post_header_lockup\" data-action-value=\"504c7870fdb6\" data-action-type=\"hover\" data-user-id=\"504c7870fdb6\" dir=\"auto\"><div class=\"u-relative u-inlineBlock u-flex0\"><img src=\"https://cdn-images-1.medium.com/fit/c/120/120/1*6_fgYnisCa9V21mymySIvA.png\" class=\"avatar-image avatar-image--small\" alt=\"Go to the profile of Medium\"><div class=\"avatar-halo u-absolute u-textColorGreenNormal svgIcon\" style=\"width: calc(100% + 12px); height: calc(100% + 12px); top:-6px; left:-6px\"><svg viewbox=\"0 0 114 114\" xmlns=\"http://www.w3.org/2000/svg\"><path d=\"M7.66922967,32.092726 C17.0070768,13.6353618 35.9421928,1.75 57,1.75 C78.0578072,1.75 96.9929232,13.6353618 106.33077,32.092726 L107.66923,31.4155801 C98.0784505,12.4582656 78.6289015,0.25 57,0.25 C35.3710985,0.25 15.9215495,12.4582656 6.33077033,31.4155801 L7.66922967,32.092726 Z\"></path><path d=\"M106.33077,81.661427 C96.9929232,100.118791 78.0578072,112.004153 57,112.004153 C35.9421928,112.004153 17.0070768,100.118791 7.66922967,81.661427 L6.33077033,82.338573 C15.9215495,101.295887 35.3710985,113.504153 57,113.504153 C78.6289015,113.504153 98.0784505,101.295887 107.66923,82.338573 L106.33077,81.661427 Z\"></path></svg></div></div></a></div><div class=\"u-flex1 u-paddingLeft15 u-overflowHidden\"><div class=\"u-lineHeightTightest\"><a class=\"ds-link ds-link--styleSubtle ui-captionStrong u-inlineBlock link link--darken link--darker\" href=\"https://medium.com/@Medium?source=post_header_lockup\" data-action=\"show-user-card\" data-action-source=\"post_header_lockup\" data-action-value=\"504c7870fdb6\" data-action-type=\"hover\" data-user-id=\"504c7870fdb6\" dir=\"auto\">Medium</a><span class=\"followState js-followState\" data-user-id=\"504c7870fdb6\"></span></div><div class=\"ui-caption ui-xs-clamp2 postMetaInline\">Everyone’s stories and ideas</div><div class=\"ui-caption postMetaInline js-testPostMetaInlineSupplemental\"><time datetime=\"2012-08-13T22:54:53.510Z\">Aug 13, 2012</time><span class=\"middotDivider u-fontSize12\"></span><span class=\"readingTime\" title=\"5 min read\"></span></div></div></div></div></div></header><div class=\"postArticle-content js-postField js-notesSource js-trackedPost\" data-post-id=\"9db0094a1e0f\" data-source=\"post_page\" data-collection-id=\"675ebe56ac25\" data-tracking-context=\"postPage\"><section name=\"bb8c\" class=\"section section--body section--first section--last\"><div class=\"section-divider\"><hr class=\"section-divider\"></div><div class=\"section-content\"><div class=\"section-inner sectionLayout--insetColumn\"><h1 name=\"title\" id=\"title\" class=\"graf graf--h2 graf--leading graf--title\">Medium Terms of\\xa0Service</h1><p name=\"571b\" id=\"571b\" class=\"graf graf--p graf-after--h2\"><strong class=\"markup--strong markup--p-strong\">Effective: March 7, 2016</strong></p><p name=\"c90b\" id=\"c90b\" class=\"graf graf--p graf-after--p\">These Terms of Service (“Terms”) are a contract between you and A Medium Corporation. They govern your use of Medium’s sites, services, mobile apps, products, and content (“Services”).</p><p name=\"238b\" id=\"238b\" class=\"graf graf--p graf-after--p\">By using Medium, you agree to these Terms. If you don’t agree to any of the Terms, you can’t use Medium.</p><p name=\"7769\" id=\"7769\" class=\"graf graf--p graf-after--p\">We can change these Terms at any time. We keep a <a href=\"https://github.com/Medium/medium-policy\" data-href=\"https://github.com/Medium/medium-policy\" class=\"markup--anchor markup--p-anchor\" rel=\"nofollow noopener\" target=\"_blank\">historical</a> record of all changes to our Terms on GitHub. If a change is material, we’ll let you know before they take effect. By using Medium on or after that effective date, you agree to the new Terms. If you don’t agree to them, you should delete your account before they take effect, otherwise your use of the site and content will be subject to the new Terms.</p><h4 name=\"8c81\" id=\"8c81\" class=\"graf graf--h4 graf-after--p\"><strong class=\"markup--strong markup--h4-strong\">Content rights &amp; responsibilities</strong></h4><p name=\"ac74\" id=\"ac74\" class=\"graf graf--p graf-after--h4\">You own the rights to the content you create and post on Medium.</p><p name=\"651b\" id=\"651b\" class=\"graf graf--p graf-after--p\">By posting content to Medium, you give us a nonexclusive license to publish it on Medium Services, including anything reasonably related to publishing it (like storing, displaying, reformatting, and distributing it). In consideration for Medium granting you access to and use of the Services, you agree that Medium may enable advertising on the Services, including in connection with the display of your content or other information. We may also use your content to promote Medium, including its products and content. We will never sell your content to third parties without your explicit permission.</p><p name=\"2584\" id=\"2584\" class=\"graf graf--p graf-after--p\">You’re responsible for the content you post. This means you assume all risks related to it, including someone else’s reliance on its accuracy, or claims relating to intellectual property or other legal rights.</p><p name=\"c207\" id=\"c207\" class=\"graf graf--p graf-after--p\">You’re welcome to post content on Medium that you’ve published elsewhere, as long as you have the rights you need to do so. By posting content to Medium, you represent that doing so doesn’t conflict with any other agreement you’ve made.</p><p name=\"0372\" id=\"0372\" class=\"graf graf--p graf-after--p\">By posting content you didn’t create to Medium, you are representing that you have the right to do so. For example, you are posting a work that’s in the public domain, used under license (including a free license, such as <a href=\"https://creativecommons.org/licenses/\" data-href=\"https://creativecommons.org/licenses/\" class=\"markup--anchor markup--p-anchor\" rel=\"nofollow noopener\" target=\"_blank\">Creative Commons</a>), or a fair use.</p><p name=\"0472\" id=\"0472\" class=\"graf graf--p graf-after--p\">We can remove any content you post for any reason.</p><p name=\"db2b\" id=\"db2b\" class=\"graf graf--p graf-after--p\">You can delete any of your posts, or your account, anytime. Processing the deletion may take a little time, but we’ll do it as quickly as possible. We may keep backup copies of your deleted post or account on our servers for up to 14 days after you delete it.</p><h4 name=\"baf1\" id=\"baf1\" class=\"graf graf--h4 graf-after--p\"><strong class=\"markup--strong markup--h4-strong\">Our content and\\xa0services</strong></h4><p name=\"adc7\" id=\"adc7\" class=\"graf graf--p graf-after--h4\">We reserve all rights in Medium’s look and feel. Some parts of Medium are licensed under third-party open source licenses. We also make some of our own code available under open source licenses. As for other parts of Medium, you may not copy or adapt any portion of our code or visual design elements (including logos) without express written permission from Medium unless otherwise permitted by law.</p><p name=\"20e4\" id=\"20e4\" class=\"graf graf--p graf-after--p\">You may not do, or try to do, the following: (1) access or tamper with non-public areas of the Services, our computer systems, or the systems of our technical providers; (2) access or search the Services by any means other than the currently available, published interfaces (e.g., APIs) that we provide; (3) forge any TCP/IP packet header or any part of the header information in any email or posting, or in any way use the Services to send altered, deceptive, or false source-identifying information; or (4) interfere with, or disrupt, the access of any user, host, or network, including sending a virus, overloading, flooding, spamming, mail-bombing the Services, or by scripting the creation of content or accounts in such a manner as to interfere with or create an undue burden on the Services.</p><p name=\"f5dd\" id=\"f5dd\" class=\"graf graf--p graf-after--p\">Crawling the Services is allowed if done in accordance with the provisions of our robots.txt file, but scraping the Services is prohibited.</p><p name=\"71a8\" id=\"71a8\" class=\"graf graf--p graf-after--p\">We may change, terminate, or restrict access to any aspect of the service, at any time, without notice.</p><h4 name=\"12f1\" id=\"12f1\" class=\"graf graf--h4 graf-after--p\"><strong class=\"markup--strong markup--h4-strong\">No children</strong></h4><p name=\"2ce7\" id=\"2ce7\" class=\"graf graf--p graf-after--h4\">Medium is only for people 13 years old and over. By using Medium, you affirm that you are over 13. If we learn someone under 13 is using Medium, we’ll terminate their account.</p><h4 name=\"531c\" id=\"531c\" class=\"graf graf--h4 graf-after--p\"><strong class=\"markup--strong markup--h4-strong\">Security</strong></h4><p name=\"3155\" id=\"3155\" class=\"graf graf--p graf-after--h4\">If you find a security vulnerability on Medium, tell us. We have a <a href=\"https://medium.com/policy/medium-s-bug-bounty-disclosure-program-34b1c80764c2\" data-href=\"https://medium.com/policy/medium-s-bug-bounty-disclosure-program-34b1c80764c2\" class=\"markup--anchor markup--p-anchor\" target=\"_blank\">bug bounty disclosure program</a>.</p><h4 name=\"05cc\" id=\"05cc\" class=\"graf graf--h4 graf-after--p\"><strong class=\"markup--strong markup--h4-strong\">Incorporated rules and\\xa0policies</strong></h4><p name=\"5207\" id=\"5207\" class=\"graf graf--p graf-after--h4\">By using the Services, you agree to let Medium collect and use information as detailed in our <a href=\"https://medium.com/p/f03bf92035c9\" data-href=\"https://medium.com/p/f03bf92035c9\" class=\"markup--anchor markup--p-anchor\" target=\"_blank\">Privacy Policy</a>. If you’re outside the United States, you consent to letting Medium transfer, store, and process your information (including your personal information and content) in and out of the United States.</p><p name=\"6230\" id=\"6230\" class=\"graf graf--p graf-after--p\">To enable a functioning community, we have <a href=\"https://medium.com/policy/medium-rules-30e5502c4eb4\" data-href=\"https://medium.com/policy/medium-rules-30e5502c4eb4\" class=\"markup--anchor markup--p-anchor\" target=\"_blank\">Rules</a>. To ensure usernames are distributed and used fairly, we have a <a href=\"https://medium.com/@Medium/medium-username-policy-7054a77fb04f\" data-href=\"https://medium.com/@Medium/medium-username-policy-7054a77fb04f\" class=\"markup--anchor markup--p-anchor\" target=\"_blank\">Username Policy</a>. Under our <a href=\"https://medium.com/policy/mediums-copyright-and-dmca-policy-d126f73695\" data-href=\"https://medium.com/policy/mediums-copyright-and-dmca-policy-d126f73695\" class=\"markup--anchor markup--p-anchor\" target=\"_blank\">DMCA Policy</a>, we’ll remove material after receiving a valid takedown notice. Under our <a href=\"https://medium.com/policy/mediums-trademark-policy-e3bb53df59a7\" data-href=\"https://medium.com/policy/mediums-trademark-policy-e3bb53df59a7\" class=\"markup--anchor markup--p-anchor\" target=\"_blank\">Trademark Policy</a>, we’ll investigate any use of another’s trademark and respond appropriately.</p><p name=\"21ad\" id=\"21ad\" class=\"graf graf--p graf-after--p\">By using Medium, you agree to follow these Rules and Policies. If you don’t, we may remove content, or suspend or delete your account.</p><h4 name=\"a2a2\" id=\"a2a2\" class=\"graf graf--h4 graf-after--p\"><strong class=\"markup--strong markup--h4-strong\">Miscellaneous</strong></h4><p name=\"b7da\" id=\"b7da\" class=\"graf graf--p graf-after--h4\"><em class=\"markup--em markup--p-em\">Disclaimer of warranty.</em> Medium provides the Services to you as is. You use them at your own risk and discretion. That means they don’t come with any warranty. None express, none implied. No implied warranty of merchantability, fitness for a particular purpose, availability, security, title or non-infringement.</p><p name=\"7073\" id=\"7073\" class=\"graf graf--p graf-after--p\"><em class=\"markup--em markup--p-em\">Limitation of Liability</em>. Medium won’t be liable to you for any damages that arise from your using the Services. This includes if the Services are hacked or unavailable. This includes all types of damages (indirect, incidental, consequential, special or exemplary). And it includes all kinds of legal claims, such as breach of contract, breach of warranty, tort, or any other loss.</p><p name=\"3d70\" id=\"3d70\" class=\"graf graf--p graf-after--p\"><em class=\"markup--em markup--p-em\">No waiver.</em> If Medium doesn’t exercise a particular right under these Terms, that doesn’t waive it.</p><p name=\"ab04\" id=\"ab04\" class=\"graf graf--p graf-after--p\"><em class=\"markup--em markup--p-em\">Severability</em>. If any provision of these terms is found invalid by a court of competent jurisdiction, you agree that the court should try to give effect to the parties’ intentions as reflected in the provision and that other provisions of the Terms will remain in full effect.</p><p name=\"bde8\" id=\"bde8\" class=\"graf graf--p graf-after--p\"><em class=\"markup--em markup--p-em\">Choice of law and jurisdiction.</em> These Terms are governed by California law, without reference to its conflict of laws provisions. You agree that any suit arising from the Services must take place in a court located in San Francisco, California.</p><p name=\"bbb3\" id=\"bbb3\" class=\"graf graf--p graf-after--p\"><em class=\"markup--em markup--p-em\">Entire agreement.</em> These Terms (including any document incorporated by reference into them) are the whole agreement between Medium and you concerning the Services.</p><p name=\"dbf1\" id=\"dbf1\" class=\"graf graf--p graf-after--p\"><em class=\"markup--em markup--p-em\">Government use.</em> If you’re \\u200busing \\u200bMedium for the U.S. Government, <a href=\"https://medium.com/@Medium/amendment-to-medium-terms-of-service-applicable-to-u-s-government-users-fccb00db67d7\" data-href=\"https://medium.com/@Medium/amendment-to-medium-terms-of-service-applicable-to-u-s-government-users-fccb00db67d7\" class=\"markup--anchor markup--p-anchor\" target=\"_blank\">this Amendment</a> to \\u200bMedium’s Terms of Service \\u200bapplies to you\\u200b.</p><p name=\"3318\" id=\"3318\" class=\"graf graf--p graf-after--p graf--trailing\">Questions? Let us know at <a href=\"mailto:%20legal@medium.com\" data-href=\"mailto:%20legal@medium.com\" class=\"markup--anchor markup--p-anchor\" target=\"_blank\">legal@medium.com</a>.</p></div></div></section></div><footer class=\"u-paddingTop10\"><div class=\"container u-maxWidth740\"><div class=\"row\"><div class=\"col u-size12of12\"></div></div><div class=\"row\"><div class=\"col u-size12of12 js-postTags\"><div class=\"u-paddingBottom10\"><ul class=\"tags tags--postTags tags--borderless\"><li><a class=\"link u-baseColor--link\" href=\"https://medium.com/tag/terms-and-conditions?source=post\" data-action-source=\"post\">Terms And Conditions</a></li><li><a class=\"link u-baseColor--link\" href=\"https://medium.com/tag/terms?source=post\" data-action-source=\"post\">Terms</a></li><li><a class=\"link u-baseColor--link\" href=\"https://medium.com/tag/medium?source=post\" data-action-source=\"post\">Medium</a></li></ul></div></div></div><section class=\"uiScale uiScale-ui--small uiScale-caption--regular u-borderTopLightest u-marginTop10 u-paddingTop20\"><div class=\"ui-h3 u-textColorDarker u-fontSize22\">One clap, two clap, three clap, forty?</div><p class=\"ui-body u-marginBottom20 u-textColorDark u-fontSize16\">By clapping more or less, you can signal to us which stories really stand out.</p></section><div class=\"postActions js-postActionsFooter\"><div class=\"u-flexCenter\"><div class=\"u-flex1\"><div class=\"multirecommend js-actionMultirecommend u-flexCenter u-width60\" data-post-id=\"9db0094a1e0f\" data-is-icon-29px=\"true\" data-is-circle=\"true\" data-has-recommend-list=\"true\" data-source=\"post_actions_footer-----9db0094a1e0f---------------------clap_footer\"><div class=\"u-relative u-foreground\"><div class=\"clapUndo u-width60 u-round u-height32 u-absolute u-borderBox u-paddingRight5 u-transition--transform200Spring u-background--brandSageLighter js-clapUndo\" style=\"top: 14px; padding: 2px;\"></div></div><span class=\"u-textAlignCenter u-relative u-background js-actionMultirecommendCount u-marginLeft10\"></span></div></div><div class=\"buttonSet u-flex0\"></div></div></div></div><div class=\"u-maxWidth740 u-paddingTop20 u-marginTop20 u-borderTopLightest container u-paddingBottom20 u-xs-paddingBottom10 js-postAttributionFooterContainer\"><div class=\"row js-postFooterInfo\"><div class=\"col u-size6of12 u-xs-size12of12\"><li class=\"uiScale uiScale-ui--small uiScale-caption--regular u-block u-paddingBottom18 js-cardUser\"><div class=\"u-marginLeft20 u-floatRight\"><span class=\"followState js-followState\" data-user-id=\"504c7870fdb6\"></span></div><div class=\"u-tableCell\"><a class=\"link u-baseColor--link avatar\" href=\"https://medium.com/@Medium?source=footer_card\" title=\"Go to the profile of Medium\" aria-label=\"Go to the profile of Medium\" data-action-source=\"footer_card\" data-user-id=\"504c7870fdb6\" dir=\"auto\"><div class=\"u-relative u-inlineBlock u-flex0\"><img src=\"https://cdn-images-1.medium.com/fit/c/120/120/1*6_fgYnisCa9V21mymySIvA.png\" class=\"avatar-image avatar-image--small\" alt=\"Go to the profile of Medium\"><div class=\"avatar-halo u-absolute u-textColorGreenNormal svgIcon\" style=\"width: calc(100% + 12px); height: calc(100% + 12px); top:-6px; left:-6px\"><svg viewbox=\"0 0 114 114\" xmlns=\"http://www.w3.org/2000/svg\"><path d=\"M7.66922967,32.092726 C17.0070768,13.6353618 35.9421928,1.75 57,1.75 C78.0578072,1.75 96.9929232,13.6353618 106.33077,32.092726 L107.66923,31.4155801 C98.0784505,12.4582656 78.6289015,0.25 57,0.25 C35.3710985,0.25 15.9215495,12.4582656 6.33077033,31.4155801 L7.66922967,32.092726 Z\"></path><path d=\"M106.33077,81.661427 C96.9929232,100.118791 78.0578072,112.004153 57,112.004153 C35.9421928,112.004153 17.0070768,100.118791 7.66922967,81.661427 L6.33077033,82.338573 C15.9215495,101.295887 35.3710985,113.504153 57,113.504153 C78.6289015,113.504153 98.0784505,101.295887 107.66923,82.338573 L106.33077,81.661427 Z\"></path></svg></div></div></a></div><div class=\"u-tableCell u-verticalAlignMiddle u-breakWord u-paddingLeft15\"><h3 class=\"ui-h3 u-fontSize18 u-lineHeightTighter\"><a class=\"link link--primary u-accentColor--hoverTextNormal\" href=\"https://medium.com/@Medium\" property=\"cc:attributionName\" title=\"Go to the profile of Medium\" aria-label=\"Go to the profile of Medium\" rel=\"author cc:attributionUrl\" data-user-id=\"504c7870fdb6\" dir=\"auto\">Medium</a></h3><div class=\"ui-caption u-textColorGreenNormal u-fontSize13 u-tintSpectrum u-accentColor--textNormal u-marginBottom7\">Medium member since Aug 2017</div><p class=\"ui-body u-fontSize14 u-lineHeightBaseSans u-textColorDark u-marginBottom4\">Everyone’s stories and ideas</p></div></li></div><div class=\"col u-size6of12 u-xs-size12of12 u-xs-marginTop30\"><li class=\"uiScale uiScale-ui--small uiScale-caption--regular u-block u-paddingBottom18 js-cardCollection\"><div class=\"u-marginLeft20 u-floatRight\"></div><div class=\"u-tableCell \"><a class=\"link u-baseColor--link avatar avatar--roundedRectangle\" href=\"https://medium.com/policy?source=footer_card\" title=\"Go to Medium Policy\" aria-label=\"Go to Medium Policy\" data-action-source=\"footer_card\"><img src=\"https://cdn-images-1.medium.com/fit/c/120/120/1*6_fgYnisCa9V21mymySIvA.png\" class=\"avatar-image u-size60x60\" alt=\"Medium Policy\"></a></div><div class=\"u-tableCell u-verticalAlignMiddle u-breakWord u-paddingLeft15\"><h3 class=\"ui-h3 u-fontSize18 u-lineHeightTighter u-marginBottom4\"><a class=\"link link--primary u-accentColor--hoverTextNormal\" href=\"https://medium.com/policy?source=footer_card\" rel=\"collection\" data-action-source=\"footer_card\">Medium Policy</a></h3><p class=\"ui-body u-fontSize14 u-lineHeightBaseSans u-textColorDark u-marginBottom4\">The Fine Print</p><div class=\"buttonSet\"></div></div></li></div></div></div><div class=\"js-postFooterPlacements\"></div><div class=\"u-padding0 u-clearfix u-backgroundGrayLightest u-print-hide supplementalPostContent js-responsesWrapper\"></div><div class=\"supplementalPostContent js-heroPromo\"></div></footer></div>'"
      ]
     },
     "execution_count": 14,
     "metadata": {},
     "output_type": "execute_result"
    }
   ],
   "source": [
    "df['content'][0]"
   ]
  },
  {
   "cell_type": "markdown",
   "metadata": {},
   "source": [
    "### Extract the content from the html tags"
   ]
  },
  {
   "cell_type": "code",
   "execution_count": 21,
   "metadata": {
    "collapsed": true,
    "jupyter": {
     "outputs_hidden": true
    }
   },
   "outputs": [
    {
     "data": {
      "text/plain": [
       "'MediumEveryone’s stories and ideasAug 13, 2012Medium Terms of\\xa0ServiceEffective: March 7, 2016These Terms of Service (“Terms”) are a contract between you and A Medium Corporation. They govern your use of Medium’s sites, services, mobile apps, products, and content (“Services”).By using Medium, you agree to these Terms. If you don’t agree to any of the Terms, you can’t use Medium.We can change these Terms at any time. We keep a historical record of all changes to our Terms on GitHub. If a change is material, we’ll let you know before they take effect. By using Medium on or after that effective date, you agree to the new Terms. If you don’t agree to them, you should delete your account before they take effect, otherwise your use of the site and content will be subject to the new Terms.Content rights & responsibilitiesYou own the rights to the content you create and post on Medium.By posting content to Medium, you give us a nonexclusive license to publish it on Medium Services, including anything reasonably related to publishing it (like storing, displaying, reformatting, and distributing it). In consideration for Medium granting you access to and use of the Services, you agree that Medium may enable advertising on the Services, including in connection with the display of your content or other information. We may also use your content to promote Medium, including its products and content. We will never sell your content to third parties without your explicit permission.You’re responsible for the content you post. This means you assume all risks related to it, including someone else’s reliance on its accuracy, or claims relating to intellectual property or other legal rights.You’re welcome to post content on Medium that you’ve published elsewhere, as long as you have the rights you need to do so. By posting content to Medium, you represent that doing so doesn’t conflict with any other agreement you’ve made.By posting content you didn’t create to Medium, you are representing that you have the right to do so. For example, you are posting a work that’s in the public domain, used under license (including a free license, such as Creative Commons), or a fair use.We can remove any content you post for any reason.You can delete any of your posts, or your account, anytime. Processing the deletion may take a little time, but we’ll do it as quickly as possible. We may keep backup copies of your deleted post or account on our servers for up to 14 days after you delete it.Our content and\\xa0servicesWe reserve all rights in Medium’s look and feel. Some parts of Medium are licensed under third-party open source licenses. We also make some of our own code available under open source licenses. As for other parts of Medium, you may not copy or adapt any portion of our code or visual design elements (including logos) without express written permission from Medium unless otherwise permitted by law.You may not do, or try to do, the following: (1) access or tamper with non-public areas of the Services, our computer systems, or the systems of our technical providers; (2) access or search the Services by any means other than the currently available, published interfaces (e.g., APIs) that we provide; (3) forge any TCP/IP packet header or any part of the header information in any email or posting, or in any way use the Services to send altered, deceptive, or false source-identifying information; or (4) interfere with, or disrupt, the access of any user, host, or network, including sending a virus, overloading, flooding, spamming, mail-bombing the Services, or by scripting the creation of content or accounts in such a manner as to interfere with or create an undue burden on the Services.Crawling the Services is allowed if done in accordance with the provisions of our robots.txt file, but scraping the Services is prohibited.We may change, terminate, or restrict access to any aspect of the service, at any time, without notice.No childrenMedium is only for people 13 years old and over. By using Medium, you affirm that you are over 13. If we learn someone under 13 is using Medium, we’ll terminate their account.SecurityIf you find a security vulnerability on Medium, tell us. We have a bug bounty disclosure program.Incorporated rules and\\xa0policiesBy using the Services, you agree to let Medium collect and use information as detailed in our Privacy Policy. If you’re outside the United States, you consent to letting Medium transfer, store, and process your information (including your personal information and content) in and out of the United States.To enable a functioning community, we have Rules. To ensure usernames are distributed and used fairly, we have a Username Policy. Under our DMCA Policy, we’ll remove material after receiving a valid takedown notice. Under our Trademark Policy, we’ll investigate any use of another’s trademark and respond appropriately.By using Medium, you agree to follow these Rules and Policies. If you don’t, we may remove content, or suspend or delete your account.MiscellaneousDisclaimer of warranty. Medium provides the Services to you as is. You use them at your own risk and discretion. That means they don’t come with any warranty. None express, none implied. No implied warranty of merchantability, fitness for a particular purpose, availability, security, title or non-infringement.Limitation of Liability. Medium won’t be liable to you for any damages that arise from your using the Services. This includes if the Services are hacked or unavailable. This includes all types of damages (indirect, incidental, consequential, special or exemplary). And it includes all kinds of legal claims, such as breach of contract, breach of warranty, tort, or any other loss.No waiver. If Medium doesn’t exercise a particular right under these Terms, that doesn’t waive it.Severability. If any provision of these terms is found invalid by a court of competent jurisdiction, you agree that the court should try to give effect to the parties’ intentions as reflected in the provision and that other provisions of the Terms will remain in full effect.Choice of law and jurisdiction. These Terms are governed by California law, without reference to its conflict of laws provisions. You agree that any suit arising from the Services must take place in a court located in San Francisco, California.Entire agreement. These Terms (including any document incorporated by reference into them) are the whole agreement between Medium and you concerning the Services.Government use. If you’re \\u200busing \\u200bMedium for the U.S. Government, this Amendment to \\u200bMedium’s Terms of Service \\u200bapplies to you\\u200b.Questions? Let us know at legal@medium.com.Terms And ConditionsTermsMediumOne clap, two clap, three clap, forty?By clapping more or less, you can signal to us which stories really stand out.MediumMedium member since Aug 2017Everyone’s stories and ideasMedium PolicyThe Fine Print'"
      ]
     },
     "execution_count": 21,
     "metadata": {},
     "output_type": "execute_result"
    }
   ],
   "source": [
    "soup = BeautifulSoup(df['content'][0], 'html.parser')\n",
    "data_block = soup.getText()\n",
    "data_block"
   ]
  },
  {
   "cell_type": "code",
   "execution_count": 27,
   "metadata": {},
   "outputs": [],
   "source": [
    "def extract_html_content(row, column_name='content'): \n",
    "    \"\"\"\n",
    "    Takes in a Row from a pandas DF. \n",
    "    Returns the text from the specified html in the given column-name\n",
    "    \n",
    "    Example: extract_html_content(df.iloc[0], 'content')\n",
    "    \"\"\"\n",
    "    soup = BeautifulSoup(row[column_name], 'html.parser')\n",
    "    return soup.getText()"
   ]
  },
  {
   "cell_type": "code",
   "execution_count": 28,
   "metadata": {},
   "outputs": [],
   "source": [
    "df['html_text'] = df.apply(extract_html_content, axis='columns')"
   ]
  },
  {
   "cell_type": "code",
   "execution_count": 29,
   "metadata": {},
   "outputs": [
    {
     "data": {
      "text/html": [
       "<div>\n",
       "<style scoped>\n",
       "    .dataframe tbody tr th:only-of-type {\n",
       "        vertical-align: middle;\n",
       "    }\n",
       "\n",
       "    .dataframe tbody tr th {\n",
       "        vertical-align: top;\n",
       "    }\n",
       "\n",
       "    .dataframe thead th {\n",
       "        text-align: right;\n",
       "    }\n",
       "</style>\n",
       "<table border=\"1\" class=\"dataframe\">\n",
       "  <thead>\n",
       "    <tr style=\"text-align: right;\">\n",
       "      <th></th>\n",
       "      <th>_id</th>\n",
       "      <th>_timestamp</th>\n",
       "      <th>_spider</th>\n",
       "      <th>url</th>\n",
       "      <th>domain</th>\n",
       "      <th>published</th>\n",
       "      <th>title</th>\n",
       "      <th>content</th>\n",
       "      <th>author</th>\n",
       "      <th>image_url</th>\n",
       "      <th>tags</th>\n",
       "      <th>link_tags</th>\n",
       "      <th>meta_tags</th>\n",
       "      <th>html_text</th>\n",
       "    </tr>\n",
       "  </thead>\n",
       "  <tbody>\n",
       "    <tr>\n",
       "      <th>0</th>\n",
       "      <td>https://medium.com/policy/medium-terms-of-serv...</td>\n",
       "      <td>1.520035e+09</td>\n",
       "      <td>medium</td>\n",
       "      <td>https://medium.com/policy/medium-terms-of-serv...</td>\n",
       "      <td>medium.com</td>\n",
       "      <td>{'$date': '2012-08-13T22:54:53.510Z'}</td>\n",
       "      <td>Medium Terms of Service – Medium Policy – Medium</td>\n",
       "      <td>&lt;div&gt;&lt;header class=\"container u-maxWidth740\"&gt;&lt;...</td>\n",
       "      <td>{'name': None, 'url': 'https://medium.com/@Med...</td>\n",
       "      <td>None</td>\n",
       "      <td>[]</td>\n",
       "      <td>{'canonical': 'https://medium.com/policy/mediu...</td>\n",
       "      <td>{'viewport': 'width=device-width, initial-scal...</td>\n",
       "      <td>MediumEveryone’s stories and ideasAug 13, 2012...</td>\n",
       "    </tr>\n",
       "    <tr>\n",
       "      <th>1</th>\n",
       "      <td>https://medium.com/policy/amendment-to-medium-...</td>\n",
       "      <td>1.519336e+09</td>\n",
       "      <td>medium</td>\n",
       "      <td>https://medium.com/policy/amendment-to-medium-...</td>\n",
       "      <td>medium.com</td>\n",
       "      <td>{'$date': '2015-08-03T07:44:50.331Z'}</td>\n",
       "      <td>Amendment to Medium Terms of Service Applicabl...</td>\n",
       "      <td>&lt;div&gt;&lt;header class=\"container u-maxWidth740\"&gt;&lt;...</td>\n",
       "      <td>{'name': None, 'url': 'https://medium.com/@Med...</td>\n",
       "      <td>None</td>\n",
       "      <td>[]</td>\n",
       "      <td>{'canonical': 'https://medium.com/policy/amend...</td>\n",
       "      <td>{'viewport': 'width=device-width, initial-scal...</td>\n",
       "      <td>MediumEveryone’s stories and ideasAug 2, 2015 ...</td>\n",
       "    </tr>\n",
       "    <tr>\n",
       "      <th>2</th>\n",
       "      <td>https://medium.com/@aelcenganda/%E9%96%A9%E6%9...</td>\n",
       "      <td>1.519336e+09</td>\n",
       "      <td>medium</td>\n",
       "      <td>https://medium.com/@aelcenganda/%E9%96%A9%E6%9...</td>\n",
       "      <td>medium.com</td>\n",
       "      <td>{'$date': '2017-02-05T13:08:17.410Z'}</td>\n",
       "      <td>走入山與海之間：閩東大刀會和兩岸走私 – Yun-Chen Chien（簡韻真） – Medium</td>\n",
       "      <td>&lt;div&gt;&lt;header class=\"container u-maxWidth740\"&gt;&lt;...</td>\n",
       "      <td>{'name': None, 'url': 'https://medium.com/@ael...</td>\n",
       "      <td>https://cdn-images-1.medium.com/max/1200/1*k9f...</td>\n",
       "      <td>[]</td>\n",
       "      <td>{'canonical': 'https://medium.com/@aelcenganda...</td>\n",
       "      <td>{'viewport': 'width=device-width, initial-scal...</td>\n",
       "      <td>Yun-Chen Chien（簡韻真）Nobody in @g0v.tw, PM in se...</td>\n",
       "    </tr>\n",
       "    <tr>\n",
       "      <th>3</th>\n",
       "      <td>https://medium.com/what-comes-to-mind/how-fast...</td>\n",
       "      <td>1.519337e+09</td>\n",
       "      <td>medium</td>\n",
       "      <td>https://medium.com/what-comes-to-mind/how-fast...</td>\n",
       "      <td>medium.com</td>\n",
       "      <td>{'$date': '2017-05-06T08:16:30.776Z'}</td>\n",
       "      <td>How fast can a camera get? – What comes to min...</td>\n",
       "      <td>&lt;div&gt;&lt;header class=\"container u-maxWidth740\"&gt;&lt;...</td>\n",
       "      <td>{'name': None, 'url': 'https://medium.com/@vai...</td>\n",
       "      <td>https://cdn-images-1.medium.com/max/1200/1*6UZ...</td>\n",
       "      <td>[]</td>\n",
       "      <td>{'canonical': 'https://medium.com/what-comes-t...</td>\n",
       "      <td>{'viewport': 'width=device-width, initial-scal...</td>\n",
       "      <td>Vaibhav KhulbeAndroid App Developer | I write ...</td>\n",
       "    </tr>\n",
       "    <tr>\n",
       "      <th>4</th>\n",
       "      <td>https://medium.com/what-comes-to-mind/a-game-f...</td>\n",
       "      <td>1.519337e+09</td>\n",
       "      <td>medium</td>\n",
       "      <td>https://medium.com/what-comes-to-mind/a-game-f...</td>\n",
       "      <td>medium.com</td>\n",
       "      <td>{'$date': '2017-06-04T14:46:25.772Z'}</td>\n",
       "      <td>A game for the lonely fox – What comes to mind...</td>\n",
       "      <td>&lt;div&gt;&lt;header class=\"container u-maxWidth740\"&gt;&lt;...</td>\n",
       "      <td>{'name': None, 'url': 'https://medium.com/@vai...</td>\n",
       "      <td>https://cdn-images-1.medium.com/max/1200/1*liU...</td>\n",
       "      <td>[]</td>\n",
       "      <td>{'canonical': 'https://medium.com/what-comes-t...</td>\n",
       "      <td>{'viewport': 'width=device-width, initial-scal...</td>\n",
       "      <td>Vaibhav KhulbeAndroid App Developer | I write ...</td>\n",
       "    </tr>\n",
       "  </tbody>\n",
       "</table>\n",
       "</div>"
      ],
      "text/plain": [
       "                                                 _id    _timestamp _spider  \\\n",
       "0  https://medium.com/policy/medium-terms-of-serv...  1.520035e+09  medium   \n",
       "1  https://medium.com/policy/amendment-to-medium-...  1.519336e+09  medium   \n",
       "2  https://medium.com/@aelcenganda/%E9%96%A9%E6%9...  1.519336e+09  medium   \n",
       "3  https://medium.com/what-comes-to-mind/how-fast...  1.519337e+09  medium   \n",
       "4  https://medium.com/what-comes-to-mind/a-game-f...  1.519337e+09  medium   \n",
       "\n",
       "                                                 url      domain  \\\n",
       "0  https://medium.com/policy/medium-terms-of-serv...  medium.com   \n",
       "1  https://medium.com/policy/amendment-to-medium-...  medium.com   \n",
       "2  https://medium.com/@aelcenganda/%E9%96%A9%E6%9...  medium.com   \n",
       "3  https://medium.com/what-comes-to-mind/how-fast...  medium.com   \n",
       "4  https://medium.com/what-comes-to-mind/a-game-f...  medium.com   \n",
       "\n",
       "                               published  \\\n",
       "0  {'$date': '2012-08-13T22:54:53.510Z'}   \n",
       "1  {'$date': '2015-08-03T07:44:50.331Z'}   \n",
       "2  {'$date': '2017-02-05T13:08:17.410Z'}   \n",
       "3  {'$date': '2017-05-06T08:16:30.776Z'}   \n",
       "4  {'$date': '2017-06-04T14:46:25.772Z'}   \n",
       "\n",
       "                                               title  \\\n",
       "0   Medium Terms of Service – Medium Policy – Medium   \n",
       "1  Amendment to Medium Terms of Service Applicabl...   \n",
       "2  走入山與海之間：閩東大刀會和兩岸走私 – Yun-Chen Chien（簡韻真） – Medium   \n",
       "3  How fast can a camera get? – What comes to min...   \n",
       "4  A game for the lonely fox – What comes to mind...   \n",
       "\n",
       "                                             content  \\\n",
       "0  <div><header class=\"container u-maxWidth740\"><...   \n",
       "1  <div><header class=\"container u-maxWidth740\"><...   \n",
       "2  <div><header class=\"container u-maxWidth740\"><...   \n",
       "3  <div><header class=\"container u-maxWidth740\"><...   \n",
       "4  <div><header class=\"container u-maxWidth740\"><...   \n",
       "\n",
       "                                              author  \\\n",
       "0  {'name': None, 'url': 'https://medium.com/@Med...   \n",
       "1  {'name': None, 'url': 'https://medium.com/@Med...   \n",
       "2  {'name': None, 'url': 'https://medium.com/@ael...   \n",
       "3  {'name': None, 'url': 'https://medium.com/@vai...   \n",
       "4  {'name': None, 'url': 'https://medium.com/@vai...   \n",
       "\n",
       "                                           image_url tags  \\\n",
       "0                                               None   []   \n",
       "1                                               None   []   \n",
       "2  https://cdn-images-1.medium.com/max/1200/1*k9f...   []   \n",
       "3  https://cdn-images-1.medium.com/max/1200/1*6UZ...   []   \n",
       "4  https://cdn-images-1.medium.com/max/1200/1*liU...   []   \n",
       "\n",
       "                                           link_tags  \\\n",
       "0  {'canonical': 'https://medium.com/policy/mediu...   \n",
       "1  {'canonical': 'https://medium.com/policy/amend...   \n",
       "2  {'canonical': 'https://medium.com/@aelcenganda...   \n",
       "3  {'canonical': 'https://medium.com/what-comes-t...   \n",
       "4  {'canonical': 'https://medium.com/what-comes-t...   \n",
       "\n",
       "                                           meta_tags  \\\n",
       "0  {'viewport': 'width=device-width, initial-scal...   \n",
       "1  {'viewport': 'width=device-width, initial-scal...   \n",
       "2  {'viewport': 'width=device-width, initial-scal...   \n",
       "3  {'viewport': 'width=device-width, initial-scal...   \n",
       "4  {'viewport': 'width=device-width, initial-scal...   \n",
       "\n",
       "                                           html_text  \n",
       "0  MediumEveryone’s stories and ideasAug 13, 2012...  \n",
       "1  MediumEveryone’s stories and ideasAug 2, 2015 ...  \n",
       "2  Yun-Chen Chien（簡韻真）Nobody in @g0v.tw, PM in se...  \n",
       "3  Vaibhav KhulbeAndroid App Developer | I write ...  \n",
       "4  Vaibhav KhulbeAndroid App Developer | I write ...  "
      ]
     },
     "execution_count": 29,
     "metadata": {},
     "output_type": "execute_result"
    }
   ],
   "source": [
    "df.head()"
   ]
  },
  {
   "cell_type": "markdown",
   "metadata": {},
   "source": [
    "### Save samples with the needed columns as CSVs \n",
    "Samples to save:  \n",
    "* 500 samples  \n",
    "* 1000 samples   \n",
    "* 10000 samples  \n",
    "* 30000 samples  \n",
    "* Whole document  "
   ]
  },
  {
   "cell_type": "code",
   "execution_count": 41,
   "metadata": {},
   "outputs": [
    {
     "data": {
      "text/plain": [
       "['url', 'title', 'author', 'image_url', 'html_text']"
      ]
     },
     "execution_count": 41,
     "metadata": {},
     "output_type": "execute_result"
    }
   ],
   "source": [
    "columns2keep.append('html_text')\n",
    "columns2keep"
   ]
  },
  {
   "cell_type": "code",
   "execution_count": 46,
   "metadata": {},
   "outputs": [],
   "source": [
    "df[columns2keep].sample(2).to_csv('sample.csv')"
   ]
  },
  {
   "cell_type": "code",
   "execution_count": 47,
   "metadata": {},
   "outputs": [
    {
     "name": "stdout",
     "output_type": "stream",
     "text": [
      "Starting 500 count saving...\n",
      "Starting 1000 count saving...\n",
      "Starting 5000 count saving...\n",
      "Starting 10000 count saving...\n",
      "Starting 25000 count saving...\n"
     ]
    }
   ],
   "source": [
    "counts = [500, 1000, 5000, 10000, 25000]\n",
    "for count in counts: \n",
    "    print(f'Starting {count} count saving...')\n",
    "    df[columns2keep].sample(count).to_csv(f'./data/samples/sample{count}.csv')"
   ]
  },
  {
   "cell_type": "code",
   "execution_count": 48,
   "metadata": {},
   "outputs": [],
   "source": [
    "# Save the whole document.\n",
    "df[columns2keep].sample(frac=1).to_csv(f'./data/samples/sampleFull.csv')"
   ]
  },
  {
   "cell_type": "markdown",
   "metadata": {},
   "source": [
    "## Training Models"
   ]
  },
  {
   "cell_type": "markdown",
   "metadata": {},
   "source": [
    "### Prep the Data "
   ]
  },
  {
   "cell_type": "code",
   "execution_count": 351,
   "metadata": {},
   "outputs": [],
   "source": [
    "# Load in Dataset \n",
    "class MyCorpusCSV: \n",
    "    def __init__(self, csv_link, idx): \n",
    "        # idx is the index of the row where the text content is\n",
    "        self.csv_link = csv_link \n",
    "        self.content_idx = idx\n",
    "        self.count = 0\n",
    "    \n",
    "    def __len__(self): \n",
    "        return self.count\n",
    "    \n",
    "    def get_nth(self, n): \n",
    "        return next(itertools.islice(self.generator(), n, None))\n",
    "    \n",
    "    def generator(self): \n",
    "        with open(self.csv_link) as csv_file: \n",
    "            reader = csv.reader(csv_file)\n",
    "            for row in reader:\n",
    "                yield row\n",
    "        \n",
    "    def __iter__(self):  \n",
    "        with open(self.csv_link) as csv_file: \n",
    "            reader = csv.reader(csv_file)\n",
    "            next(reader, None)\n",
    "            for row in reader:\n",
    "                self.count += 1\n",
    "                yield row[self.content_idx]\n",
    "\n",
    "#                 yield row[self.content_idx] # To get the whole doc, use this instead"
   ]
  },
  {
   "cell_type": "code",
   "execution_count": 352,
   "metadata": {},
   "outputs": [],
   "source": [
    "link = './data/samples/sample500.csv'\n",
    "# link = './data/samples/test.csv'\n",
    "content_col_number = 5\n",
    "mycorpus = MyCorpusCSV(link, content_col_number)"
   ]
  },
  {
   "cell_type": "code",
   "execution_count": 284,
   "metadata": {},
   "outputs": [],
   "source": [
    "# Create a dictionary of all words in corpus - remove the stopwords in the process\n",
    "dictionary = corpora.Dictionary()\n",
    "# Add document to dictionary \n",
    "for doc in mycorpus: \n",
    "    dictionary.add_documents([doc.lower().split()])"
   ]
  },
  {
   "cell_type": "code",
   "execution_count": 285,
   "metadata": {},
   "outputs": [
    {
     "name": "stdout",
     "output_type": "stream",
     "text": [
      "Dictionary(120975 unique tokens: ['$1.3m', '$100', '$13', '$14', '(“nellie']...)\n"
     ]
    }
   ],
   "source": [
    "print(dictionary)"
   ]
  },
  {
   "cell_type": "code",
   "execution_count": 286,
   "metadata": {},
   "outputs": [],
   "source": [
    "# Remove stopwords \n",
    "stop_ids = [\n",
    "    dictionary.token2id[stopword]\n",
    "    for stopword in STOPWORDS\n",
    "    if stopword in dictionary.token2id\n",
    "]\n",
    "# Remove id's that occur once \n",
    "once_ids = [tokenid for tokenid, docfreq in dictionary.dfs.items() if docfreq == 1]\n",
    "dictionary.filter_tokens(once_ids + stop_ids)\n",
    "dictionary.compactify()"
   ]
  },
  {
   "cell_type": "code",
   "execution_count": 287,
   "metadata": {},
   "outputs": [
    {
     "name": "stdout",
     "output_type": "stream",
     "text": [
      "Dictionary(27819 unique tokens: ['$100', '11,', '2014,', '2017what', 'ability']...)\n"
     ]
    }
   ],
   "source": [
    "print(dictionary)"
   ]
  },
  {
   "cell_type": "markdown",
   "metadata": {},
   "source": [
    "## Testing Models"
   ]
  },
  {
   "cell_type": "code",
   "execution_count": 313,
   "metadata": {},
   "outputs": [],
   "source": [
    "# Load in Dataset \n",
    "class BoWCorpusCSV: \n",
    "    def __init__(self, csv_link, idx): \n",
    "        # idx is the index of the row where the text content is\n",
    "        self.csv_link = csv_link \n",
    "        self.content_idx = idx\n",
    "        self.count = 0\n",
    "    \n",
    "    def __len__(self): \n",
    "        return self.count\n",
    "        \n",
    "    def __iter__(self):  \n",
    "        from gensim.parsing.preprocessing import remove_stopwords\n",
    "        with open(self.csv_link) as csv_file: \n",
    "            reader = csv.reader(csv_file)\n",
    "            next(reader, None)\n",
    "            for row in reader:\n",
    "                self.count += 1\n",
    "                yield dictionary.doc2bow(row[self.content_idx].lower().split())\n"
   ]
  },
  {
   "cell_type": "markdown",
   "metadata": {},
   "source": [
    "## TF-IDF Models"
   ]
  },
  {
   "cell_type": "code",
   "execution_count": 314,
   "metadata": {},
   "outputs": [],
   "source": [
    "bowcorpus = BoWCorpusCSV(link, content_col_number)"
   ]
  },
  {
   "cell_type": "code",
   "execution_count": 318,
   "metadata": {},
   "outputs": [],
   "source": [
    "tfidf_model = TfidfModel(bowcorpus)"
   ]
  },
  {
   "cell_type": "code",
   "execution_count": 316,
   "metadata": {},
   "outputs": [
    {
     "data": {
      "text/plain": [
       "372"
      ]
     },
     "execution_count": 316,
     "metadata": {},
     "output_type": "execute_result"
    }
   ],
   "source": [
    "# len(next(bowcorpus.__iter__()))"
   ]
  },
  {
   "cell_type": "markdown",
   "metadata": {},
   "source": [
    "### Convert a sample text to TFIDF document"
   ]
  },
  {
   "cell_type": "code",
   "execution_count": 321,
   "metadata": {},
   "outputs": [],
   "source": [
    "text = 'Using machine learning, one can find useful patterns from large data sets to make'\\\n",
    "'data more informative and qualitatively insightful. This is very important for'\\\n",
    "'decision making. Students will be exposed to supervised and unsupervised'\\\n",
    "'learning, respectively.'"
   ]
  },
  {
   "cell_type": "code",
   "execution_count": 324,
   "metadata": {},
   "outputs": [
    {
     "name": "stdout",
     "output_type": "stream",
     "text": [
      "[(153, 0.10382537902495723), (1195, 0.1061252121871431), (1948, 0.1517823003148463), (2039, 0.29525705725800117), (2283, 0.1628713117927232), (2290, 0.17424377512633324), (2429, 0.20225556912127385), (3320, 0.32659558027188684), (4144, 0.24001998543500375), (6386, 0.24250382625146066), (12036, 0.476496230514886), (12077, 0.3045786815346222), (17922, 0.476496230514886)]\n"
     ]
    }
   ],
   "source": [
    "text_words = simple_preprocess(text)\n",
    "tfidf_vec = tfidf_model[dictionary.doc2bow(text_words)]\n",
    "print(tfidf_vec)"
   ]
  },
  {
   "cell_type": "markdown",
   "metadata": {},
   "source": [
    "## Get similar documents from the corpus"
   ]
  },
  {
   "cell_type": "code",
   "execution_count": 330,
   "metadata": {},
   "outputs": [],
   "source": [
    "index = similarities.Similarity(None, bowcorpus, len(dictionary))"
   ]
  },
  {
   "cell_type": "code",
   "execution_count": 332,
   "metadata": {},
   "outputs": [],
   "source": [
    "res = index[tfidf_vec]"
   ]
  },
  {
   "cell_type": "code",
   "execution_count": 334,
   "metadata": {},
   "outputs": [
    {
     "name": "stdout",
     "output_type": "stream",
     "text": [
      "[(43, 0.11912215), (281, 0.10735533), (396, 0.1049601), (94, 0.100949824), (125, 0.091222815), (389, 0.0863544), (291, 0.08232404), (97, 0.08066791), (243, 0.0803193), (118, 0.080146275)]\n"
     ]
    }
   ],
   "source": [
    "# Print top 10 documents \n",
    "print(list(sorted(enumerate(res), key=lambda x: x[1], reverse=True))[:10])"
   ]
  },
  {
   "cell_type": "code",
   "execution_count": 360,
   "metadata": {},
   "outputs": [
    {
     "data": {
      "text/plain": [
       "['49816',\n",
       " 'https://medium.com/@clintperez/affecting-change-how-modern-marketing-tools-build-ongoing-relationships-in-advocacy-b5c1b9f53a21',\n",
       " 'Affecting Change: How Modern Marketing Tools Build Ongoing Relationships in Advocacy',\n",
       " \"{'name': None, 'url': 'https://medium.com/@clintperez', 'twitter': '@clintperez'}\",\n",
       " 'https://cdn-images-1.medium.com/max/1200/1*eI49N0CWPsKr_BfBUglQxg.jpeg',\n",
       " 'Clint PerezAvid homebrewer, distance runner,  sports enthusiast and tech geek. Dedicated husband and father. Native Washingtonian. Tweets are my own.Nov 4, 2016Affecting Change: How Modern Marketing Tools Build Ongoing Relationships in\\xa0AdvocacyQ&A with Bryan Fratkin, Founder & CEO, Whistle Stop\\xa0DigitalBryan Fratkin is a native Washingtonian. He has spent his entire career at the nexus of politics, advocacy and digital marketing. But those worlds never came together quite the way he wanted them to until he founded Whistle Stop Digital, makers of SparkInfluence. “I was tired of stitching together off the shelf solutions that never did what I thought they should do. I never felt like I could fully leverage the data to run effective advocacy campaigns. So I built the platform myself.” SparkInfluence is that platform, bringing together the best of digital marketing, data, social graphs and behavioral signals to provide associations and non-profits a better view of their constituents and a clearer path for activating their relationships with them. “We’re the people you come to when you want to get something done.”Q. What is SparkInfluence and why did you found it?SparkInfluence at its core is a community building platform. We work with all types of groups\\u200a—\\u200aassociations, non-profits, educational institutions and corporations\\u200a—\\u200ahelping them build communities around their issues and drive users to take an action. That action could be legislatively oriented\\u200a—\\u200asay commenting on a regulation or tweeting their legislator\\u200a—\\u200aor it could be something as simple as asking users to share their story or sign a petition. Either way, SparkInfluence is the backbone these groups use for engaging with their audience.Bryan FratkinWhat makes us different is in what happens next and is really the reason I founded the company. One of our sayings around here is, “Your advocacy effort is more than just names on a spreadsheet.” And really, that’s what we’re all about. For too long, advocacy software has been pretty simplistic\\u200a—\\u200aa user enters their address, they get a letter to send to their legislators and, when done, they see a generic thank you page. Even worse, for the admin trying to track it all, it was a slew of spreadsheets just giving them basic details on their advocates.As someone with a background in marketing, this pained me to no end. An advocate just took time out of their day to participate in your effort. They clicked to the form from somewhere (email, an ad on Twitter or Facebook, etc), they filled out the form giving their personal information, they sent what could be a custom message to specific legislators, and after all that, the old software could only display a generic thank you message. Imagine Amazon doing that. You just made a purchase and all they do is say thank you\\u200a—\\u200ano suggestions, no “other people who bought this, also bought that.” Or even Netflix. They just spent $10M dollars a few years back to upgrade their recommendation engine so that when you finish one movie, they make the right suggestion for another.It’s those ideas that drove me to build SparkInfluence. Advocates are more than just names on a spreadsheet. They’re real people with real interests. Organizations need to be able to understand that quickly and act on that information. Our platform helps with that, matching users to social media and voter files, identifying influencers and key relationships, capturing prospects, pinpointing users to their congressional and state voting districts and more.Q. How are things going so far?Things are going well. I like to think we launched at just the right time. There’s this growing intersection of data with a desire to engage better with folks that are interested in your effort.Going back to the Amazon and Netflix customization example I mentioned a minute ago. The stat changes often, but I think it’s now at something like 70% of users expect a website’s content to be customized based on their preferences. The fact that SparkInfluence can customize even just the Thank You page based on the user’s information has been huge. We’ve seen a big uptick in follow-on actions for organizations that are leveraging that functionality. Folks take one action, the system suggests other actions based on who they are, how many followers they have on Twitter, where they live, etc. and now they’re almost twice as likely to take another action.From an admin side, we’re seeing a great response to the platform’s backend. A key area is the interface. A little known fact is our platform is built entirely on top of Wordpress. That means that we can take advantage of just how comfortable everyone is with the software that already runs many of our client’s websites and almost 30% of the internet.Among other things, other areas where we’ve seen a great response has been in our referral and prospecting tools. You know, a lot organization’s struggle with building their effort outside of their known users. They may have a set list that ebbs and flows but they know there are more folks out there that they just haven’t been able to reach.We have a client that’s grown their list by 20% this year just by leveraging built-in functionality. With referrals, each user in the system gets a unique referral id. That means that when sending out an action alert email, they can attach that referral link and track back whose link was shared the most. The admin has a referral dashboard set up and can see the growth and reward those users making the most referrals.At the same time, they know that there are people on social media talking about their issues that aren’t in their system. Built-in social listening means that SparkInfluence can look at the latest tweets, and soon Facebook posts, to see who’s talking about your issues and, if they’re not in the system, bring them in as prospects so the group can target them with ads or messaging in the future.So it’s been fun to say the least. We’re helping organization’s build their stakeholder list and understand their audience better while at the same time, making it supremely easy for advocates to reach their message across to their legislators.Q. Washington, DC seems to be an ideal city for your company\\u200a—\\u200aboth the political and tech communities here are strong. Tell us how being part of this community has helped your company grow.It’s all here. I’m a DC native, grew up in Adams Morgan. I’ve left a few times but the city keeps pulling me back. It was a no-brainer starting the business here. The talent pool, the number of just smart people with relevant skills and who are passionate about what they do, that’s here. DC also has this amazing, growing and vibrant tech scene. There’s a definite misconception of DC as this political cesspool. It couldn’t be further from the truth. It’s a great city with a great history, and smart people changing the world in all types of industries. Couldn’t see myself doing this anywhere else.Q. Tell us how the advocacy world has changed over the years. What impact has technology had?I think we’re seeing a pretty seismic change in the advocacy world right now because of technology. And you have to credit consumer technology first, right. Back to Amazon, they moved quickly over a decade ago trying to understand the buyer so that they could better sell them products. Then about ten years ago, politics came along and started doing the same. Obviously with Obama’s campaign, the data modeling, the A/B testing, etc. In the old days you had reams of paper and lengthy strategy on what to do about the polls. That changed with technology where the data now drives the effort across the board. The saying goes, “if you have a donor, you have a voter.” Right, because that person’s invested enough to donate, let’s see what drove them to do so and what else they might be able to help us with.That’s what we’re starting to see in advocacy, both from a specific effort level and an organization level. First the profession is modernizing. So you have advocacy professionals now whose only job is to run effective campaigns. Second, you have the technology that can help the organization across the board. For associations, that means that the data generated out of advocacy interactions\\u200a—\\u200aletters, phone calls, tweets, etc\\u200a—\\u200acan help the group better understand their advocates, with the data helping content creators, membership, event sales and more.Finally the technology is making it so much easier for me to deliver the right ask to the right user at the right time through the right medium. If I know that this user only signs petitions, only opens emails in the afternoon and only if it’s on this topic\\u200a—\\u200athen that’s what I’ll send them and when.Q. How are you preparing for a new administration in January? What issues are you thinking about?It’s interesting. This is from a grassroots side, so outside the typical political sphere of lobbying. From our point of view it looks like similar issues more than likely will be brought up in the first 100 days, but depending on the administration, they’ll be addressed from entirely different viewpoints. An example is energy\\u200a—\\u200adepending on the administration, one side might push us more towards traditional sources of energy vs. newer ones. It’ll definitely be interesting, that’s for sure. So for us, we’re looking at what organizations are involved in those issues and how they may be approaching them. And of course, congressional and state races will help decide that agenda and what bills or regulations actually make it through.At the same time, there’s still legislative work left here in DC before the end of the year. What bills are going to be brought up, what will be pushed through before Congress leaves town.Either way, it’s clear the next four months will be busy for much of DC. Organizations are going to be thinking about election fallout\\u200a—\\u200awas one of their Senate champions just ousted in the election\\u200a—\\u200aand how are they going to deploy resources post January 1st to move their agenda. What interests me is in the discussions of how can the data they’ve collected help them mobilize their stakeholders quickly to address whatever might be coming down the pike.For us, that’s what makes it fun. We’re a platform provider that helps these groups build their communities, understand their audience and, in the end, we help both the organization and the advocate affect the change they want to see.Rapid fire questions\\u200a—\\u200aGet to know Bryan FratkinFavorite thing about #dctechThe people. There’s all sorts of different businesses getting started here and you have an amazing diversity of people doing it.What song/music is most played on your iPod/iPhone?The Killers. It’s just good music and it’s amazing how many songs they’ve put out.What is the first website/app you access every morning?Twitter. Gives me a good cross-section of what’s going on in the world.Who is your favorite person to follow on Twitter?Ryan Beckwith. I used to work with him. He’ll deny it, but I think he tweets a good mix of wit and political insight.Three people living or dead you’d like to have over for dinnerErik Larson\\u200a—\\u200aauthor of Dead Wake, The Devil in a White City, Thunderstruck, all of these books that are historical non-fiction that I just love. He does a great job researching and they’re fun to read.Novak Djokovic or Andre Agassi\\u200a—\\u200aI’m a former tennis player so one of these guys would be a blast. They were or are at the top of the game, they’re great athletes, and there’s no doubt they have fantastic stories to tellTeddy Roosevelt\\u200a—\\u200aI’ve always had a soft spot for the man. His story is unreal, from being a scrawny teenager to President, Vice President, Governor of New York, Assistant Secretary of the Navy and more. It’s like he hit for the cycle. The guy had at least four once-in-a-lifetime jobs.Main PageWe help groups succeed, turning win-lose advocacy battles into win-win outcomes for the entire organization. We know…www.wearewsd.comSparkInfluence | Complete Grassroots Advocacy, Influencer Identification and Issue Management…SparkInfluence is a new breed of advocacy and engagement solution. A robust, mobile-friendly platform, SparkInfluence…sparkinfluence.netMarketingPoliticsTechnologyAdvocacyStartupOne clap, two clap, three clap, forty?By clapping more or less, you can signal to us which stories really stand out.Clint PerezAvid homebrewer, distance runner,  sports enthusiast and tech geek. Dedicated husband and father. Native Washingtonian. Tweets are my own.']"
      ]
     },
     "execution_count": 360,
     "metadata": {},
     "output_type": "execute_result"
    }
   ],
   "source": [
    "# Get the nth value from the corpus to confirm \n",
    "import itertools\n",
    "index = 281\n",
    "mycorpus.get_nth(index)\n",
    "# next(itertools.islice(mycorpus.get_nth(), index, None))"
   ]
  },
  {
   "cell_type": "markdown",
   "metadata": {},
   "source": [
    "## Saving Models"
   ]
  },
  {
   "cell_type": "code",
   "execution_count": null,
   "metadata": {},
   "outputs": [],
   "source": []
  }
 ],
 "metadata": {
  "kernelspec": {
   "display_name": "Python 3",
   "language": "python",
   "name": "python3"
  },
  "language_info": {
   "codemirror_mode": {
    "name": "ipython",
    "version": 3
   },
   "file_extension": ".py",
   "mimetype": "text/x-python",
   "name": "python",
   "nbconvert_exporter": "python",
   "pygments_lexer": "ipython3",
   "version": "3.8.5"
  }
 },
 "nbformat": 4,
 "nbformat_minor": 4
}
