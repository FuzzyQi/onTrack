{
 "cells": [
  {
   "cell_type": "markdown",
   "metadata": {},
   "source": [
    "# File to crate copies of the Training doc. \n",
    "The training set is too big to test on.  \n",
    "So we will create a 1k, 5k and 10 files that can be used. "
   ]
  },
  {
   "cell_type": "code",
   "execution_count": 11,
   "metadata": {},
   "outputs": [],
   "source": [
    "data_link = './data/how-good-is-your-medium-article/train.json'"
   ]
  },
  {
   "cell_type": "code",
   "execution_count": 12,
   "metadata": {},
   "outputs": [],
   "source": [
    "from smart_open import open \n",
    "\n",
    "def copy2file(source, destination, count=1000): \n",
    "    with open(source) as source_f: \n",
    "        with open(destination, 'w') as dest_f: \n",
    "            while count != 0: \n",
    "                dest_f.write(source_f.readline())\n",
    "                count-=1\n",
    "            "
   ]
  },
  {
   "cell_type": "code",
   "execution_count": 13,
   "metadata": {},
   "outputs": [],
   "source": [
    "one_k = './data/one-thousand.json'\n",
    "copy2file(data_link, one_k, 1000)"
   ]
  },
  {
   "cell_type": "code",
   "execution_count": 14,
   "metadata": {},
   "outputs": [],
   "source": [
    "one_h = './data/one-hundred.json'\n",
    "copy2file(data_link, one_h, 100)"
   ]
  },
  {
   "cell_type": "code",
   "execution_count": 15,
   "metadata": {},
   "outputs": [],
   "source": [
    "five_k = './data/five-thousand.json'\n",
    "copy2file(data_link, five_k, 5000)"
   ]
  },
  {
   "cell_type": "code",
   "execution_count": 16,
   "metadata": {},
   "outputs": [],
   "source": [
    "ten_k = './data/ten-thousand.json'\n",
    "copy2file(data_link, ten_k, 5000)"
   ]
  }
 ],
 "metadata": {
  "kernelspec": {
   "display_name": "Python 3",
   "language": "python",
   "name": "python3"
  },
  "language_info": {
   "codemirror_mode": {
    "name": "ipython",
    "version": 3
   },
   "file_extension": ".py",
   "mimetype": "text/x-python",
   "name": "python",
   "nbconvert_exporter": "python",
   "pygments_lexer": "ipython3",
   "version": "3.8.5"
  }
 },
 "nbformat": 4,
 "nbformat_minor": 4
}
